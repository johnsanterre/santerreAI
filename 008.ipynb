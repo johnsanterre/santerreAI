{
  "nbformat": 4,
  "nbformat_minor": 0,
  "metadata": {
    "colab": {
      "provenance": [],
      "authorship_tag": "ABX9TyPVoC4mcuUNk1yVRxqQcDEo",
      "include_colab_link": true
    },
    "kernelspec": {
      "name": "python3",
      "display_name": "Python 3"
    },
    "language_info": {
      "name": "python"
    }
  },
  "cells": [
    {
      "cell_type": "markdown",
      "metadata": {
        "id": "view-in-github",
        "colab_type": "text"
      },
      "source": [
        "<a href=\"https://colab.research.google.com/github/johnsanterre/santerreAI/blob/main/008.ipynb\" target=\"_parent\"><img src=\"https://colab.research.google.com/assets/colab-badge.svg\" alt=\"Open In Colab\"/></a>"
      ]
    },
    {
      "cell_type": "markdown",
      "source": [
        "# Tutorial 8: KNN on iris data set \n"
      ],
      "metadata": {
        "id": "iSgpq4wDl4Bp"
      }
    },
    {
      "cell_type": "code",
      "execution_count": null,
      "metadata": {
        "id": "4UhuHKh1l0KC"
      },
      "outputs": [],
      "source": [
        "from sklearn.datasets import load_iris\n",
        "iris = load_iris()\n",
        "X = iris['data']\n",
        "# Train a KMeans model on the data\n",
        "from sklearn.cluster import KMeans\n",
        "kmeans = KMeans(n_clusters=3, random_state=42)\n",
        "kmeans.fit(X)\n",
        "# Predict the cluster labels for each sample\n",
        "y_pred = kmeans.predict(X)\n",
        "\n",
        "# Import Matplotlib\n",
        "import matplotlib.pyplot as plt\n",
        "\n",
        "# Create a scatter plot of the first two features, colored by the predicted cluster labels\n",
        "plt.scatter(X[:, 0], X[:, 1], c=y_pred)\n",
        "\n",
        "# Add the cluster centers as red x's\n",
        "plt.scatter(kmeans.cluster_centers_[:, 0], kmeans.cluster_centers_[:, 1], marker='x', c='red')\n",
        "plt.show()\n",
        "\n"
      ]
    }
  ]
}