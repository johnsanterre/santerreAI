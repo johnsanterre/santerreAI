{
  "nbformat": 4,
  "nbformat_minor": 0,
  "metadata": {
    "colab": {
      "provenance": [],
      "authorship_tag": "ABX9TyOln3QmVYdGwZ87try4/iis",
      "include_colab_link": true
    },
    "kernelspec": {
      "name": "python3",
      "display_name": "Python 3"
    },
    "language_info": {
      "name": "python"
    }
  },
  "cells": [
    {
      "cell_type": "markdown",
      "metadata": {
        "id": "view-in-github",
        "colab_type": "text"
      },
      "source": [
        "<a href=\"https://colab.research.google.com/github/johnsanterre/santerreAI/blob/main/001.ipynb\" target=\"_parent\"><img src=\"https://colab.research.google.com/assets/colab-badge.svg\" alt=\"Open In Colab\"/></a>"
      ]
    },
    {
      "cell_type": "markdown",
      "source": [
        "# Tutorial 1: K-means, Iris, Elbow Curve\n",
        "The Iris dataset is a widely used dataset in machine learning and statistics. It consists of 150 observations of iris flowers, with four variables: sepal length, sepal width, petal length, and petal width. The dataset also includes a fifth variable, the species of the flower, which can be one of three species: Iris setosa, Iris versicolor, or Iris virginica.\n",
        "\n",
        "The Iris dataset is often used as a benchmark or test dataset for machine learning algorithms, especially for classification algorithms. It is a popular dataset because it is small, easy to understand, and has well-defined classes. The Iris dataset is often used to demonstrate the basic principles of machine learning, such as feature selection, model training, and evaluation.\n",
        "\n",
        "The Iris dataset was first introduced by Ronald Fisher, a British statistician, in his 1936 paper \"The use of multiple measurements in taxonomic problems\" as an example of linear discriminant analysis. It has since become a widely used dataset in the field of machine learning and statistics, and is included in many machine learning libraries and packages.\n",
        "\n",
        "Here is a tutorial on how to choose the optimal number of clusters for the K-Means algorithm using the Iris data set and an elbow curve:\n",
        "\n",
        "First, we will start by loading the Iris data set and necessary libraries. The Iris data set is a well-known data set in the field of machine learning, and it contains 150 samples of iris plants with four features: sepal length, sepal width, petal length, and petal width."
      ],
      "metadata": {
        "id": "u1WtPHDVZ_Cg"
      }
    },
    {
      "cell_type": "code",
      "source": [
        "from sklearn.datasets import load_iris\n",
        "from sklearn.cluster import KMeans\n",
        "import matplotlib.pyplot as plt\n",
        "\n",
        "iris = load_iris()\n",
        "X = iris.data\n",
        "\n",
        "wcss = []  # within-cluster sum of squares \n",
        "for i in range(1, 11):\n",
        "    kmeans = KMeans(n_clusters=i, n_init =10)\n",
        "    kmeans.fit(X)\n",
        "    wcss.append(kmeans.inertia_)"
      ],
      "metadata": {
        "id": "XTOa3JdraGM9"
      },
      "execution_count": 2,
      "outputs": []
    },
    {
      "cell_type": "markdown",
      "source": [
        "Next, we will fit the K-Means model with different values of k (number of clusters) and store the within-cluster sum of squares (WCSS) for each value of k. The WCSS is a measure of the sum of the distances of each point in the cluster to the centroid of the cluster. We want to minimize the WCSS, so we can use the WCSS as a measure of how good a particular value of k is.\n",
        "\n",
        "Now, we will plot the WCSS values for each value of k using a line plot. This plot is called an elbow curve, and the idea is to look for an \"elbow\" in the plot, which is a point of inflection where the WCSS begins to decrease more slowly. The number of clusters at this point is the optimal number of clusters."
      ],
      "metadata": {
        "id": "xlqir6LTaS7C"
      }
    },
    {
      "cell_type": "code",
      "source": [
        "plt.plot(range(1, 11), wcss)\n",
        "plt.title('Elbow Method')\n",
        "plt.xlabel('Number of clusters')\n",
        "plt.ylabel('WCSS')\n",
        "plt.show()"
      ],
      "metadata": {
        "colab": {
          "base_uri": "https://localhost:8080/",
          "height": 295
        },
        "id": "2pxHJ8D7arxX",
        "outputId": "30b3cd17-be88-436b-bbf0-6071180fecc3"
      },
      "execution_count": 3,
      "outputs": [
        {
          "output_type": "display_data",
          "data": {
            "text/plain": [
              "<Figure size 432x288 with 1 Axes>"
            ],
            "image/png": "[encoded data removed]"
          },
          "metadata": {
            "needs_background": "light"
          }
        }
      ]
    },
    {
      "cell_type": "markdown",
      "source": [
        "From the plot, we can see that the optimal number of clusters is 3. This means that the best number of clusters for the K-Means algorithm on the Iris data set is 3.\t"
      ],
      "metadata": {
        "id": "1iFFo3w-a152"
      }
    }
  ]
}