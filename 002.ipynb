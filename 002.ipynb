{
  "nbformat": 4,
  "nbformat_minor": 0,
  "metadata": {
    "colab": {
      "provenance": [],
      "authorship_tag": "ABX9TyP1Wo7xqlBRfa2RpYWGf00Y",
      "include_colab_link": true
    },
    "kernelspec": {
      "name": "python3",
      "display_name": "Python 3"
    },
    "language_info": {
      "name": "python"
    }
  },
  "cells": [
    {
      "cell_type": "markdown",
      "metadata": {
        "id": "view-in-github",
        "colab_type": "text"
      },
      "source": [
        "<a href=\"https://colab.research.google.com/github/johnsanterre/santerreAI/blob/main/002.ipynb\" target=\"_parent\"><img src=\"https://colab.research.google.com/assets/colab-badge.svg\" alt=\"Open In Colab\"/></a>"
      ]
    },
    {
      "cell_type": "markdown",
      "source": [
        "# Tutorial 2: One-hot Encoding\n",
        "\n",
        "One-hot encoding is a process of representing categorical variables as numerical data. It is called one-hot encoding because only one element of the categorical list is represented as a \"hot\" (1) value, while the rest of the elements are represented as 0. One-hot encoding is often used as a preprocessing step for machine learning algorithms, because many algorithms expect numerical input and cannot handle categorical data directly.\n",
        "This is a tutorial on how to perform one-hot encoding using words as features:\n",
        "First, we will start by creating a list of words that we want to encode. For this tutorial, we will use the following list of words:\n"
      ],
      "metadata": {
        "id": "9kVcvQpzb5u-"
      }
    },
    {
      "cell_type": "code",
      "source": [
        "words = ['cat', 'dog', 'mouse', 'bird', 'lizard']"
      ],
      "metadata": {
        "id": "0dQ32qzjb9XQ"
      },
      "execution_count": 2,
      "outputs": []
    },
    {
      "cell_type": "markdown",
      "source": [
        "Next, we will use the OneHotEncoder class from the sklearn.preprocessing module to perform the one-hot encoding. The OneHotEncoder class expects numerical input, so we will need to first convert our list of words to a list of integers. We can do this using the LabelEncoder class from the sklearn.preprocessing module.\n"
      ],
      "metadata": {
        "id": "eOVX3PcEcImx"
      }
    },
    {
      "cell_type": "code",
      "source": [
        "from sklearn.preprocessing import OneHotEncoder, LabelEncoder\n",
        "label_encoder = LabelEncoder()\n",
        "integer_encoded = label_encoder.fit_transform(words)"
      ],
      "metadata": {
        "id": "w2QJHrjTcO3i"
      },
      "execution_count": 3,
      "outputs": []
    },
    {
      "cell_type": "markdown",
      "source": [
        "Now that we have converted our list of words to a list of integers, we can use the OneHotEncoder to perform the one-hot encoding."
      ],
      "metadata": {
        "id": "Qg5kpE_sceFy"
      }
    },
    {
      "cell_type": "code",
      "source": [
        "onehot_encoder = OneHotEncoder(sparse=False)\n",
        "integer_encoded = integer_encoded.reshape(len(integer_encoded), 1)\n",
        "onehot_encoded = onehot_encoder.fit_transform(integer_encoded)"
      ],
      "metadata": {
        "colab": {
          "base_uri": "https://localhost:8080/"
        },
        "id": "2lB_P_xOcarg",
        "outputId": "c2753879-0e5b-46ea-a22d-15af0a4709cf"
      },
      "execution_count": 4,
      "outputs": [
        {
          "output_type": "stream",
          "name": "stderr",
          "text": [
            "/usr/local/lib/python3.9/dist-packages/sklearn/preprocessing/_encoders.py:868: FutureWarning: `sparse` was renamed to `sparse_output` in version 1.2 and will be removed in 1.4. `sparse_output` is ignored unless you leave `sparse` to its default value.\n",
            "  warnings.warn(\n"
          ]
        }
      ]
    },
    {
      "cell_type": "markdown",
      "source": [
        "The onehot_encoded variable now contains the one-hot encoded version of our list of words. It is a NumPy array with shape (5, 5), where each row represents a word and each column represents a word in the list. The value at each position (i, j) is 1 if the ith word is the jth word in the list, and 0 otherwise.\n"
      ],
      "metadata": {
        "id": "czkpd7caciBU"
      }
    },
    {
      "cell_type": "code",
      "source": [
        "print(onehot_encoded)"
      ],
      "metadata": {
        "colab": {
          "base_uri": "https://localhost:8080/"
        },
        "id": "OG95OpMpcmIW",
        "outputId": "b6500722-ef93-4974-f947-7f914e26d87e"
      },
      "execution_count": 5,
      "outputs": [
        {
          "output_type": "stream",
          "name": "stdout",
          "text": [
            "[[0. 1. 0. 0. 0.]\n",
            " [0. 0. 1. 0. 0.]\n",
            " [0. 0. 0. 0. 1.]\n",
            " [1. 0. 0. 0. 0.]\n",
            " [0. 0. 0. 1. 0.]]\n"
          ]
        }
      ]
    }
  ]
}