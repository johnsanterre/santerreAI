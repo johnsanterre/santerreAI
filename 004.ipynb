{
  "nbformat": 4,
  "nbformat_minor": 0,
  "metadata": {
    "colab": {
      "provenance": [],
      "authorship_tag": "ABX9TyOtT20D7XTL0qO3rJmo6Io1",
      "include_colab_link": true
    },
    "kernelspec": {
      "name": "python3",
      "display_name": "Python 3"
    },
    "language_info": {
      "name": "python"
    }
  },
  "cells": [
    {
      "cell_type": "markdown",
      "metadata": {
        "id": "view-in-github",
        "colab_type": "text"
      },
      "source": [
        "<a href=\"https://colab.research.google.com/github/johnsanterre/santerreAI/blob/main/004.ipynb\" target=\"_parent\"><img src=\"https://colab.research.google.com/assets/colab-badge.svg\" alt=\"Open In Colab\"/></a>"
      ]
    },
    {
      "cell_type": "markdown",
      "source": [
        "\n",
        "# Tutorial 4:  Cosine similarity\n",
        "\n",
        "Cosine similarity is a measure of similarity between two non-zero vectors of an inner product space that measures the cosine of the angle between them. It is defined as the dot product of the vectors divided by the product of their magnitudes. Cosine similarity is often used in information retrieval and natural language processing to measure the similarity between documents or text documents.\n",
        "Here is a tutorial on how to calculate cosine similarity in Python:\n",
        "First, we will start by creating two sample vectors that we want to calculate the cosine similarity for.\n"
      ],
      "metadata": {
        "id": "DbzDxxaaexsh"
      }
    },
    {
      "cell_type": "code",
      "execution_count": 1,
      "metadata": {
        "id": "LO1EFpssewHO"
      },
      "outputs": [],
      "source": [
        "import numpy as np\n",
        "vector1 = np.array([1, 2, 3])\n",
        "vector2 = np.array([2, 3, 4])"
      ]
    },
    {
      "cell_type": "markdown",
      "source": [
        "Next, we will use the numpy.dot function to calculate the dot product of the two vectors. The dot product is a scalar value that measures the similarity between the two vectors.\n"
      ],
      "metadata": {
        "id": "20CkGJHre501"
      }
    },
    {
      "cell_type": "code",
      "source": [
        "dot_product = np.dot(vector1, vector2)\n",
        "print(dot_product)\n"
      ],
      "metadata": {
        "colab": {
          "base_uri": "https://localhost:8080/"
        },
        "id": "hEUl6Zt7e7ug",
        "outputId": "7e42110b-9310-46cb-d11e-189f011d4440"
      },
      "execution_count": 2,
      "outputs": [
        {
          "output_type": "stream",
          "name": "stdout",
          "text": [
            "20\n"
          ]
        }
      ]
    },
    {
      "cell_type": "markdown",
      "source": [
        "Now, we will use the numpy.linalg.norm function to calculate the magnitudes of the two vectors. The magnitude of a vector is a scalar value that represents the length of the vector.\n"
      ],
      "metadata": {
        "id": "R0_I5L1MfAY4"
      }
    },
    {
      "cell_type": "code",
      "source": [
        "magnitude1 = np.linalg.norm(vector1)\n",
        "magnitude2 = np.linalg.norm(vector2)\n",
        "print(magnitude1)\n",
        "print(magnitude2)"
      ],
      "metadata": {
        "colab": {
          "base_uri": "https://localhost:8080/"
        },
        "id": "Szv3Y9d-fCFg",
        "outputId": "9737d4f4-3765-4393-a7ac-638c88d42c95"
      },
      "execution_count": 3,
      "outputs": [
        {
          "output_type": "stream",
          "name": "stdout",
          "text": [
            "3.7416573867739413\n",
            "5.385164807134504\n"
          ]
        }
      ]
    },
    {
      "cell_type": "markdown",
      "source": [
        "Finally, we can use the dot product and the magnitudes of the two vectors to calculate the cosine similarity.\n"
      ],
      "metadata": {
        "id": "DuaIrpR-fDou"
      }
    },
    {
      "cell_type": "code",
      "source": [
        "cosine_similarity = dot_product / (magnitude1 * magnitude2)\n",
        "print(cosine_similarity)"
      ],
      "metadata": {
        "colab": {
          "base_uri": "https://localhost:8080/"
        },
        "id": "7r1sV5g2fFL6",
        "outputId": "18c1a865-22f6-47ef-ed85-b87c4671e9b0"
      },
      "execution_count": 4,
      "outputs": [
        {
          "output_type": "stream",
          "name": "stdout",
          "text": [
            "0.9925833339709303\n"
          ]
        }
      ]
    }
  ]
}