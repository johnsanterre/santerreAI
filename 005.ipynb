{
  "nbformat": 4,
  "nbformat_minor": 0,
  "metadata": {
    "colab": {
      "provenance": [],
      "authorship_tag": "ABX9TyNJVMYp517C6m4WUsDLgpd6",
      "include_colab_link": true
    },
    "kernelspec": {
      "name": "python3",
      "display_name": "Python 3"
    },
    "language_info": {
      "name": "python"
    }
  },
  "cells": [
    {
      "cell_type": "markdown",
      "metadata": {
        "id": "view-in-github",
        "colab_type": "text"
      },
      "source": [
        "<a href=\"https://colab.research.google.com/github/johnsanterre/santerreAI/blob/main/005.ipynb\" target=\"_parent\"><img src=\"https://colab.research.google.com/assets/colab-badge.svg\" alt=\"Open In Colab\"/></a>"
      ]
    },
    {
      "cell_type": "markdown",
      "source": [
        "# Tutorial 5:  PCA\n",
        "\n",
        "Dimensionality reduction is the process of reducing the number of features in a dataset while preserving as much information as possible. It is often used to reduce the complexity of a machine learning model, speed up training, and improve the model's performance. There are many techniques for dimensionality reduction, including principal component analysis (PCA), singular value decomposition (SVD), and t-distributed stochastic neighbor embedding (t-SNE).\n",
        "Here is a tutorial on how to perform dimensionality reduction using principal component analysis (PCA) in Python:\n",
        "First, we will start by loading the necessary libraries and creating some sample data. For this tutorial, we will use the load_diabetes function from the sklearn.datasets module to load a sample dataset.\n"
      ],
      "metadata": {
        "id": "ScHhDAxgfuz_"
      }
    },
    {
      "cell_type": "code",
      "execution_count": 11,
      "metadata": {
        "id": "4vSuPudgfseb"
      },
      "outputs": [],
      "source": [
        "from sklearn.datasets import load_diabetes\n",
        "from sklearn.decomposition import PCA\n",
        "X, y = load_diabetes(return_X_y=True)"
      ]
    },
    {
      "cell_type": "markdown",
      "source": [
        "Next, we will create a PCA model and fit it to the data using the fit method.\n"
      ],
      "metadata": {
        "id": "zWTUneeqf0W5"
      }
    },
    {
      "cell_type": "code",
      "source": [
        "pca = PCA()\n",
        "_ = pca.fit(X)"
      ],
      "metadata": {
        "id": "16DZMXCAf2AZ"
      },
      "execution_count": 27,
      "outputs": []
    },
    {
      "cell_type": "markdown",
      "source": [
        "Now, we can use the transform method to reduce the dimensionality of the data. The transform method takes the input data and projects it onto a lower-dimensional space using the principal components learned by the model.\n"
      ],
      "metadata": {
        "id": "MAeP0iHAf336"
      }
    },
    {
      "cell_type": "code",
      "source": [
        "import matplotlib.pyplot as plt\n",
        "X_reduced = pca.transform(X)\n",
        "plt.plot(pca.explained_variance_ratio_)\n",
        "plt.show()"
      ],
      "metadata": {
        "colab": {
          "base_uri": "https://localhost:8080/",
          "height": 265
        },
        "id": "sZStMMrqf5Rd",
        "outputId": "fc8910e8-c1e3-4e39-ef3f-ad71fd33311a"
      },
      "execution_count": 28,
      "outputs": [
        {
          "output_type": "display_data",
          "data": {
            "text/plain": [
              "<Figure size 432x288 with 1 Axes>"
            ],
            "image/png": "[encoded data removed]"
          },
          "metadata": {
            "needs_background": "light"
          }
        }
      ]
    },
    {
      "cell_type": "markdown",
      "source": [
        "Note they values are always decreasing.  Plot those and see the elbow curve.\n",
        "  \n",
        "By default, the transform method projects the data onto the space spanned by the principal components with the highest variance. However, we can specify the number of dimensions to keep using the n_components parameter. For example, to keep only the first two principal components, we can do the following:\n"
      ],
      "metadata": {
        "id": "cY1t_UrMf8DD"
      }
    },
    {
      "cell_type": "code",
      "source": [
        "pca = PCA(n_components=2)\n",
        "_ = pca.fit(X)\n",
        "# pca.transform(X)"
      ],
      "metadata": {
        "id": "biXxm3vVgAkY"
      },
      "execution_count": 22,
      "outputs": []
    },
    {
      "cell_type": "markdown",
      "source": [
        "Finally, we can use the explained_variance_ratio_ attribute of the PCA model to see how much of the variance in the original data is preserved in the reduced data.\n"
      ],
      "metadata": {
        "id": "l9xYFqTygFfu"
      }
    },
    {
      "cell_type": "code",
      "source": [
        "print(pca.explained_variance_ratio_)"
      ],
      "metadata": {
        "colab": {
          "base_uri": "https://localhost:8080/"
        },
        "id": "q6n63qlWgCZ1",
        "outputId": "aa65b3d6-1ef2-48f8-a50e-8625091edd19"
      },
      "execution_count": 23,
      "outputs": [
        {
          "output_type": "stream",
          "name": "stdout",
          "text": [
            "[0.40242108 0.14923197]\n"
          ]
        }
      ]
    }
  ]
}